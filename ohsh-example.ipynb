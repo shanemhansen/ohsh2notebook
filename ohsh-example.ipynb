{
	"cells": [
		{
			"cell_type": "code",
			"execution_count": 1,
			"id": "f81a0e29-e63e-465a-b5dd-1b99fc4f915e",
			"metadata": {},
			"outputs": [
				{
					"name": "stdout",
					"output_type": "stream",
					"text": [
						"\n\u001b[?2004l\rbashexample.ipynb  go.sum   nb.go\t\tohsh-example.json  out.ipynb\r\ngo.mod\t\t   main.go  ohsh-example.ipynb\tohsh-utils\t   out.json\r\n\u001b[?2004h\u001b[01;32mshane@stone\u001b[00m:\u001b[01;34m~/src/ohsh-utils\u001b[00m$ find . -name '*go'\n"
					]
				}
			],
			"source": [
				"/bin/ls"
			]
		},
		{
			"cell_type": "code",
			"execution_count": 1,
			"id": "c9a7b3cd-14a3-4ac9-8c0b-4efa72518c71",
			"metadata": {},
			"outputs": [
				{
					"name": "stdout",
					"output_type": "stream",
					"text": [
						"\n\u001b[?2004l\r./main.go\r\n./nb.go\r\n\u001b[?2004h\u001b[01;32mshane@stone\u001b[00m:\u001b[01;34m~/src/ohsh-utils\u001b[00m$ \u001b[?2004l\r\r\nexit\r\n"
					]
				}
			],
			"source": [
				"find . -name '*go'"
			]
		}
	],
	"metadata": {
		"kernelspec": {
			"display_name": "Bash",
			"language": "bash",
			"name": "bash"
		},
		"language_info": {
			"codemirror_mode": {
				"name": "bash",
				"version": 0
			},
			"file_extension": ".sh",
			"mimetype": "text/x-sh",
			"name": "shell",
			"nbconvert_exporter": "",
			"pygments_lexer": "",
			"version": ""
		}
	},
	"nbformat": 4,
	"nbformat_minor": 5
}
