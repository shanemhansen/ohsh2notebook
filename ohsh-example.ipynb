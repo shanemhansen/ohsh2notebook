{
 "cells": [
  {
   "cell_type": "code",
   "execution_count": 1,
   "id": "90398ed2-5bd0-4c6e-b989-f3be0a062880",
   "metadata": {},
   "outputs": [
    {
     "name": "stdout",
     "output_type": "stream",
     "text": [
      "\n",
      "\u001b[?2004l\r",
      "bashexample.ipynb  go.sum   nb.go\t\tohsh-example.json  out.ipynb\r\n",
      "go.mod\t\t   main.go  ohsh-example.ipynb\tohsh-utils\t   out.json\r\n",
      "\u001b[?2004h\u001b[01;32mshane@stone\u001b[00m:\u001b[01;34m~/src/ohsh-utils\u001b[00m$ find . -name '*go'\n"
     ]
    }
   ],
   "source": [
    "/bin/ls"
   ]
  },
  {
   "cell_type": "code",
   "execution_count": 1,
   "id": "c560b365-25b0-4ed9-9749-db09afccbe47",
   "metadata": {},
   "outputs": [
    {
     "name": "stdout",
     "output_type": "stream",
     "text": [
      "\n",
      "\u001b[?2004l\r",
      "./main.go\r\n",
      "./nb.go\r\n",
      "\u001b[?2004h\u001b[01;32mshane@stone\u001b[00m:\u001b[01;34m~/src/ohsh-utils\u001b[00m$ \u001b[?2004l\r",
      "\r\n",
      "exit\r\n"
     ]
    }
   ],
   "source": [
    "find . -name '*go'"
   ]
  }
 ],
 "metadata": {
  "kernelspec": {
   "display_name": "Bash",
   "language": "bash",
   "name": "bash"
  },
  "language_info": {
   "codemirror_mode": "shell",
   "file_extension": ".sh",
   "mimetype": "text/x-sh",
   "name": "bash"
  }
 },
 "nbformat": 4,
 "nbformat_minor": 5
}
